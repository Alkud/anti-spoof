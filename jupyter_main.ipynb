{
 "cells": [
  {
   "cell_type": "code",
   "execution_count": 3,
   "metadata": {},
   "outputs": [],
   "source": [
    "import os\n",
    "import numpy as np\n",
    "import time\n",
    "\n",
    "from gd_gram_generator import GdGramGenerator\n",
    "from dataset_generator import DatasetGenerator\n",
    "\n",
    "import resnet_model\n",
    "import resnet_builder\n",
    "\n",
    "from tensorflow.python.keras import callbacks\n",
    "from tensorflow.python.keras.initializers import glorot_uniform\n",
    "\n",
    "from sklearn.metrics import accuracy_score\n",
    "\n",
    "from matplotlib.pyplot import plot\n",
    "\n",
    "from tensorflow.python.keras.callbacks import TensorBoard\n",
    "\n",
    "\n",
    "TRAIN_DATA_DIRECTORY = os.path.abspath('')+'/data/train'\n",
    "TEST_DATA_DIRECTORY = os.path.abspath('')+'/data/test'\n",
    "LABELS = ['human', 'spoof']\n",
    "SAMPLE_RATE = 16000\n",
    "GDGRAM_SHAPE = (512, 256)\n",
    "NN_INPUT_SHAPE = (GDGRAM_SHAPE[0], GDGRAM_SHAPE[1], 1)\n",
    "GDGRAM_DURATION = 6.0\n",
    "INT_DATA_BIT_DEPTH = 16\n",
    "\n",
    "BATCH = 32\n",
    "EPOCHS = 15"
   ]
  },
  {
   "cell_type": "code",
   "execution_count": 11,
   "metadata": {},
   "outputs": [
    {
     "name": "stdout",
     "output_type": "stream",
     "text": [
      "Processing audio files in X:\\IDRD\\anti_spoof/data/train\n",
      "total files to process: 12000\n",
      "Thread# 0: terminated, processed 0 files out of 600\n",
      "Thread# 1: terminated, processed 0 files out of 600\n",
      "Thread# 12: terminated, processed 0 files out of 600\n",
      "Thread# 2: terminated, processed 0 files out of 600\n",
      "Thread# 13: terminated, processed 0 files out of 600\n",
      "Thread# 11: terminated, processed 0 files out of 600\n",
      "Thread# 4: terminated, processed 0 files out of 600\n",
      "Thread# 10: terminated, processed 0 files out of 600\n",
      "Thread# 3: terminated, processed 0 files out of 600\n",
      "Thread# 14: terminated, processed 0 files out of 600\n",
      "Thread# 8: terminated, processed 600 files out of 600\n",
      "Thread# 15: terminated, processed 600 files out of 600\n",
      "Thread# 17: terminated, processed 600 files out of 600\n",
      "Thread# 9: terminated, processed 600 files out of 600\n",
      "Thread# 5: terminated, processed 600 files out of 600\n",
      "Thread# 18: terminated, processed 600 files out of 600\n",
      "Thread# 16: terminated, processed 600 files out of 600\n",
      "Thread# 7: terminated, processed 600 files out of 600\n",
      "Thread# 19: terminated, processed 600 files out of 600\n",
      "Thread# 6: terminated, processed 600 files out of 600\n"
     ]
    }
   ],
   "source": [
    "# preparing data\n",
    "image_generator = GdGramGenerator(DATA_DIRECTORY, SAMPLE_RATE, GDGRAM_SHAPE, GDGRAM_DURATION, INT_DATA_BIT_DEPTH)\n",
    "image_generator.process_input_folder(number_of_threads=20)"
   ]
  },
  {
   "cell_type": "code",
   "execution_count": 31,
   "metadata": {},
   "outputs": [],
   "source": [
    "# loading DataFrame with paths/labels for training and validation data and paths for testing data\n",
    "dataset_generator = DatasetGenerator(label_set=LABELS, train_input_path=TRAIN_DATA_DIRECTORY,\n",
    "                                     test_input_path=TEST_DATA_DIRECTORY,\n",
    "                                     bit_depth=INT_DATA_BIT_DEPTH)\n",
    "data_frame = dataset_generator.load_data()\n",
    "dataset_generator.apply_train_test_split(test_size=0.3, random_state=911)\n",
    "dataset_generator.apply_train_validation_split(validation_size=0.2, random_state=74)"
   ]
  },
  {
   "cell_type": "code",
   "execution_count": 6,
   "metadata": {},
   "outputs": [
    {
     "name": "stdout",
     "output_type": "stream",
     "text": [
      "WARNING:tensorflow:From C:\\Users\\Supervisor\\Anaconda3\\envs\\tensorflow\\lib\\site-packages\\tensorflow\\python\\framework\\op_def_library.py:263: colocate_with (from tensorflow.python.framework.ops) is deprecated and will be removed in a future version.\n",
      "Instructions for updating:\n",
      "Colocations handled automatically by placer.\n"
     ]
    }
   ],
   "source": [
    "# compiling model\n",
    "model = resnet_model.build_resnet18(input_shape=NN_INPUT_SHAPE, num_classes=len(LABELS))\n",
    "\n",
    "model.compile(optimizer='Adam', loss='categorical_crossentropy', metrics=['acc'])"
   ]
  },
  {
   "cell_type": "code",
   "execution_count": 19,
   "metadata": {},
   "outputs": [
    {
     "name": "stdout",
     "output_type": "stream",
     "text": [
      "Epoch 1/150\n",
      "600/600 [==============================] - 352s 587ms/step - loss: 1.4658 - acc: 0.5690 - val_loss: 1.1117 - val_acc: 0.5121\n",
      "Epoch 2/150\n",
      "600/600 [==============================] - 331s 552ms/step - loss: 1.2631 - acc: 0.5936 - val_loss: 0.6739 - val_acc: 0.6038\n",
      "Epoch 3/150\n",
      "600/600 [==============================] - 332s 553ms/step - loss: 1.2967 - acc: 0.5934 - val_loss: 1.2618 - val_acc: 0.5079\n",
      "Epoch 4/150\n",
      "600/600 [==============================] - 332s 554ms/step - loss: 1.5269 - acc: 0.6002 - val_loss: 6.1690 - val_acc: 0.4900\n",
      "Epoch 5/150\n",
      "600/600 [==============================] - 341s 568ms/step - loss: 1.3984 - acc: 0.6127 - val_loss: 0.6076 - val_acc: 0.6804\n",
      "Epoch 6/150\n",
      "600/600 [==============================] - 334s 556ms/step - loss: 0.5624 - acc: 0.7309 - val_loss: 0.7477 - val_acc: 0.6321\n",
      "Epoch 7/150\n",
      "600/600 [==============================] - 331s 552ms/step - loss: 0.4568 - acc: 0.7916 - val_loss: 0.4019 - val_acc: 0.8242\n",
      "Epoch 8/150\n",
      "600/600 [==============================] - 332s 553ms/step - loss: 0.3693 - acc: 0.8409 - val_loss: 0.4248 - val_acc: 0.7900\n",
      "Epoch 9/150\n",
      "600/600 [==============================] - 331s 552ms/step - loss: 0.3170 - acc: 0.8656 - val_loss: 0.3430 - val_acc: 0.8546\n",
      "Epoch 10/150\n",
      "600/600 [==============================] - 333s 556ms/step - loss: 0.2761 - acc: 0.8833 - val_loss: 0.3637 - val_acc: 0.8500\n",
      "Epoch 11/150\n",
      "600/600 [==============================] - 332s 553ms/step - loss: 0.2515 - acc: 0.8965 - val_loss: 0.2990 - val_acc: 0.8717\n",
      "Epoch 12/150\n",
      "600/600 [==============================] - 332s 554ms/step - loss: 0.2134 - acc: 0.9135 - val_loss: 0.2777 - val_acc: 0.8792\n",
      "Epoch 13/150\n",
      "600/600 [==============================] - 332s 553ms/step - loss: 0.1847 - acc: 0.9227 - val_loss: 0.3003 - val_acc: 0.8704\n",
      "Epoch 14/150\n",
      "600/600 [==============================] - 329s 549ms/step - loss: 0.1691 - acc: 0.9314 - val_loss: 0.3039 - val_acc: 0.8904\n",
      "Epoch 15/150\n",
      "600/600 [==============================] - 332s 554ms/step - loss: 0.1415 - acc: 0.9441 - val_loss: 0.3623 - val_acc: 0.8775\n",
      "Epoch 16/150\n",
      "600/600 [==============================] - 333s 555ms/step - loss: 0.1264 - acc: 0.9505 - val_loss: 0.4210 - val_acc: 0.8529\n",
      "Epoch 00016: early stopping\n"
     ]
    },
    {
     "data": {
      "text/plain": [
       "[<matplotlib.lines.Line2D at 0x7352066128>]"
      ]
     },
     "execution_count": 19,
     "metadata": {},
     "output_type": "execute_result"
    },
    {
     "data": {
      "image/png": "[encoded data removed]",
      "text/plain": [
       "<Figure size 432x288 with 1 Axes>"
      ]
     },
     "metadata": {
      "needs_background": "light"
     },
     "output_type": "display_data"
    }
   ],
   "source": [
    "# training model\n",
    "tensorboard = TensorBoard(log_dir='./logs/{}'.format(int(time.time())), histogram_freq=0,\n",
    "                          write_graph=True, write_images=False)\n",
    "\n",
    "callbacks = [callbacks.EarlyStopping(monitor='val_loss', patience=4, verbose=1, mode='min'), tensorboard]\n",
    "\n",
    "history = model.fit_generator(generator=dataset_generator.generator(BATCH, mode='train'),\n",
    "                              steps_per_epoch=int(np.ceil(len(dataset_generator.train_data_frame)/BATCH)),\n",
    "                              epochs=EPOCHS,\n",
    "                              verbose=1,\n",
    "                              callbacks=callbacks,\n",
    "                              validation_data=dataset_generator.generator(BATCH, mode='validation'),\n",
    "                              validation_steps=int(np.ceil(len(dataset_generator.validation_data_frame)/BATCH)))\n",
    "\n",
    "acc = history.history['acc']\n",
    "plot(acc)"
   ]
  },
  {
   "cell_type": "code",
   "execution_count": 8,
   "metadata": {},
   "outputs": [
    {
     "name": "stdout",
     "output_type": "stream",
     "text": [
      "WARNING:tensorflow:From C:\\Users\\Supervisor\\Anaconda3\\envs\\tensorflow\\lib\\site-packages\\tensorflow\\python\\ops\\math_ops.py:3066: to_int32 (from tensorflow.python.ops.math_ops) is deprecated and will be removed in a future version.\n",
      "Instructions for updating:\n",
      "Use tf.cast instead.\n"
     ]
    }
   ],
   "source": [
    "from keras.models import load_model\n",
    "model = load_model('anti_spoof_resnet18_2019-06-13_23-25.h5')"
   ]
  },
  {
   "cell_type": "code",
   "execution_count": 9,
   "metadata": {},
   "outputs": [
    {
     "name": "stdout",
     "output_type": "stream",
     "text": [
      "113/113 [==============================] - 36s 321ms/step\n",
      "0.9038888888888889\n"
     ]
    }
   ],
   "source": [
    "#%%\n",
    "# testing model\n",
    "y_pred_proba = model.predict_generator(dataset_generator.generator(BATCH, mode='test'),\n",
    "                                       int(np.ceil(len(dataset_generator.test_data_frame)/BATCH)),\n",
    "                                       verbose=1)\n",
    "y_pred = np.argmax(y_pred_proba, axis=1)\n",
    "\n",
    "y_true = dataset_generator.test_data_frame['label_id'].values\n",
    "\n",
    "acc_score = accuracy_score(y_true, y_pred)\n",
    "print(acc_score)"
   ]
  },
  {
   "cell_type": "code",
   "execution_count": 21,
   "metadata": {},
   "outputs": [],
   "source": [
    "#model.save('anti_spoof_resnet18_2019-06-13_23-25.h5')"
   ]
  },
  {
   "cell_type": "code",
   "execution_count": 32,
   "metadata": {},
   "outputs": [
    {
     "data": {
      "text/plain": [
       "5000"
      ]
     },
     "execution_count": 32,
     "metadata": {},
     "output_type": "execute_result"
    }
   ],
   "source": [
    "len(dataset_generator.wild_test_data_frame)"
   ]
  },
  {
   "cell_type": "code",
   "execution_count": 33,
   "metadata": {},
   "outputs": [
    {
     "name": "stdout",
     "output_type": "stream",
     "text": [
      "157/157 [==============================] - 50s 316ms/step\n"
     ]
    }
   ],
   "source": [
    "y_pred_proba = model.predict_generator(dataset_generator.generator(BATCH, mode='wild_test'),\n",
    "                                       int(np.ceil(len(dataset_generator.wild_test_data_frame)/BATCH)),\n",
    "                                       verbose=1)"
   ]
  },
  {
   "cell_type": "code",
   "execution_count": 34,
   "metadata": {},
   "outputs": [],
   "source": [
    "wild_test_float_labels = [score[0] for score in y_pred_proba]"
   ]
  },
  {
   "cell_type": "code",
   "execution_count": 35,
   "metadata": {},
   "outputs": [],
   "source": [
    "wild_test_string_labels = [f'{number:1.8f}' for number in wild_test_float_labels]"
   ]
  },
  {
   "cell_type": "code",
   "execution_count": 38,
   "metadata": {},
   "outputs": [
    {
     "data": {
      "text/plain": [
       "5000"
      ]
     },
     "execution_count": 38,
     "metadata": {},
     "output_type": "execute_result"
    }
   ],
   "source": [
    "len(wild_test_string_labels)"
   ]
  },
  {
   "cell_type": "code",
   "execution_count": 44,
   "metadata": {},
   "outputs": [],
   "source": [
    "from glob import glob\n",
    "wild_test_wav_files = glob(os.path.join(TEST_DATA_DIRECTORY + '/wav/', '*.wav'))\n",
    "wild_test_file_names = []\n",
    "for file_path in wild_test_wav_files:\n",
    "    directory_name, full_file_name = os.path.split(file_path)\n",
    "    wild_test_file_names.append(full_file_name)    \n",
    "with open('anti_spoof_prediction.txt', 'w') as output_file:\n",
    "    for file_name, score in zip(wild_test_file_names, wild_test_string_labels):\n",
    "        output_file.write(f'{file_name}, {score}\\n')\n",
    "    output_file.close"
   ]
  },
  {
   "cell_type": "code",
   "execution_count": 42,
   "metadata": {},
   "outputs": [
    {
     "data": {
      "text/plain": [
       "'X:\\\\IDRD\\\\anti_spoof/data/test/wav/*.wav'"
      ]
     },
     "execution_count": 42,
     "metadata": {},
     "output_type": "execute_result"
    }
   ],
   "source": [
    "os.path.join(TEST_DATA_DIRECTORY + '/wav/', '*.wav')"
   ]
  },
  {
   "cell_type": "code",
   "execution_count": null,
   "metadata": {},
   "outputs": [],
   "source": []
  }
 ],
 "metadata": {
  "kernelspec": {
   "display_name": "Python 3",
   "language": "python",
   "name": "python3"
  },
  "language_info": {
   "codemirror_mode": {
    "name": "ipython",
    "version": 3
   },
   "file_extension": ".py",
   "mimetype": "text/x-python",
   "name": "python",
   "nbconvert_exporter": "python",
   "pygments_lexer": "ipython3",
   "version": "3.7.3"
  }
 },
 "nbformat": 4,
 "nbformat_minor": 2
}
